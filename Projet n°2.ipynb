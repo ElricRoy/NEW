{
 "cells": [
  {
   "cell_type": "code",
   "execution_count": 14,
   "id": "b7ecea46",
   "metadata": {},
   "outputs": [
    {
     "name": "stdout",
     "output_type": "stream",
     "text": [
      "36\n"
     ]
    }
   ],
   "source": [
    " my_list=[2,3,6]\n",
    "def multiply_list_numbers(my_list):\n",
    "    result=1\n",
    "    for x in my_list:\n",
    "        result=result*x\n",
    "        \n",
    "    return result\n",
    "\n",
    "result=multiply_list_numbers(my_list)\n",
    "print(result)"
   ]
  },
  {
   "cell_type": "code",
   "execution_count": 15,
   "id": "e5496dc6",
   "metadata": {},
   "outputs": [
    {
     "name": "stdout",
     "output_type": "stream",
     "text": [
      "[('item3', '24.5'), ('item2', '15.10'), ('item1', '12.20')]\n"
     ]
    }
   ],
   "source": [
    "my_list=[('item1','12.20'),('item2','15.10'),('item3','24.5')]\n",
    "my_list.reverse()\n",
    "print(my_list)"
   ]
  },
  {
   "cell_type": "code",
   "execution_count": null,
   "id": "e0572673",
   "metadata": {},
   "outputs": [],
   "source": [
    "#Welcome to \"Iteration game\"\n",
    "\n",
    "first={0,1,2,3,4}\n",
    "\n",
    "# input \"entrer votre valeur\"\n",
    "\n",
    "nombre=int()"
   ]
  },
  {
   "cell_type": "code",
   "execution_count": 16,
   "id": "17ce5e42",
   "metadata": {},
   "outputs": [
    {
     "name": "stdout",
     "output_type": "stream",
     "text": [
      "(2, 1)\n",
      "(1, 2)\n",
      "(2, 3)\n",
      "(4, 4)\n",
      "(2, 5)\n"
     ]
    }
   ],
   "source": [
    "List = [(2, 5), (1, 2), (4, 4), (2, 3), (2, 1)]\n",
    "\n",
    "i = 0\n",
    "j = 0\n",
    "\n",
    "for x in List :\n",
    "    j = 0\n",
    "    for y in List :\n",
    "        if x[1] < y[1] :\n",
    "            exh = List[i]\n",
    "            List[i] = List[j]\n",
    "            List[j] = exh\n",
    "        j+=1\n",
    "    i+=1\n",
    "\n",
    "for x in List :\n",
    "    print(x)"
   ]
  },
  {
   "cell_type": "code",
   "execution_count": 1,
   "id": "f57cacf9",
   "metadata": {},
   "outputs": [
    {
     "name": "stdout",
     "output_type": "stream",
     "text": [
      "{'a': 400, 'b': 400, 'c': 300, 'd': 400}\n"
     ]
    }
   ],
   "source": [
    "d1={'a':100,'b':200,'c':300}\n",
    "d2={'a':300,'b':200,'d':400}\n",
    "\n",
    "d3= d1 | d2\n",
    "\n",
    "for x in d1:\n",
    "    for y in d2 :\n",
    "        if x[0] == y[0]:\n",
    "            d3[x] = d1[x] + d2[y]\n",
    "\n",
    "print(d3)"
   ]
  },
  {
   "cell_type": "code",
   "execution_count": 2,
   "id": "b61f42fa",
   "metadata": {},
   "outputs": [
    {
     "name": "stdout",
     "output_type": "stream",
     "text": [
      "{0, 1, 3, 4, 5}\n"
     ]
    }
   ],
   "source": [
    "my_set={0,1,2,3,4}\n",
    "my_set.add(5)\n",
    "my_set.remove(2)\n",
    "print(my_set)"
   ]
  },
  {
   "cell_type": "code",
   "execution_count": null,
   "id": "ce089974",
   "metadata": {},
   "outputs": [],
   "source": []
  }
 ],
 "metadata": {
  "kernelspec": {
   "display_name": "Python 3 (ipykernel)",
   "language": "python",
   "name": "python3"
  },
  "language_info": {
   "codemirror_mode": {
    "name": "ipython",
    "version": 3
   },
   "file_extension": ".py",
   "mimetype": "text/x-python",
   "name": "python",
   "nbconvert_exporter": "python",
   "pygments_lexer": "ipython3",
   "version": "3.11.4"
  }
 },
 "nbformat": 4,
 "nbformat_minor": 5
}
