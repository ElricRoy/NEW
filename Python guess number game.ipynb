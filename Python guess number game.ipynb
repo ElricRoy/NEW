{
 "cells": [
  {
   "cell_type": "code",
   "execution_count": 8,
   "id": "31abdf8e",
   "metadata": {},
   "outputs": [
    {
     "name": "stdout",
     "output_type": "stream",
     "text": [
      "Bienvenue sur le Jeu 'Gues the number game'\n",
      "Le jeu va commencer : \n",
      "Entrer une valeur entre 1 et 100 : 36\n",
      "Votre nombre est trop élévé, essayez encore\n",
      "Entrer une valeur entre 1 et 100 : 12\n",
      "Votre nombre est trop faible, essayez encore\n",
      "Entrer une valeur entre 1 et 100 : 20\n",
      "Votre nombre est trop faible, essayez encore\n",
      "Entrer une valeur entre 1 et 100 : 30\n",
      "Votre nombre est trop élévé, essayez encore\n",
      "Entrer une valeur entre 1 et 100 : 25\n",
      "Votre nombre est trop faible, essayez encore\n",
      "Entrer une valeur entre 1 et 100 : 27\n",
      "Votre nombre est correct\n"
     ]
    }
   ],
   "source": [
    "#Welcome to \"Guess the number game\"\n",
    "# input \"entrer votre valeur\"\n",
    "import random\n",
    "quit = 1\n",
    "nombre= random.randint(1,100)\n",
    "\n",
    "print(\"Bienvenue sur le Jeu 'Gues the number game'\")\n",
    "print(\"Le jeu va commencer : \")\n",
    "\n",
    "while quit == 1 :\n",
    "    test = int(input(\"Entrer une valeur entre 1 et 100 : \"))\n",
    "\n",
    "    if test<nombre:\n",
    "        print(\"Votre nombre est trop faible, essayez encore\")\n",
    "    elif test>nombre:\n",
    "        print(\"Votre nombre est trop élévé, essayez encore\")\n",
    "    else :\n",
    "        print(\"Votre nombre est correct\")\n",
    "        quit = 0\n"
   ]
  },
  {
   "cell_type": "code",
   "execution_count": null,
   "id": "783e20d7",
   "metadata": {},
   "outputs": [],
   "source": []
  }
 ],
 "metadata": {
  "kernelspec": {
   "display_name": "Python 3 (ipykernel)",
   "language": "python",
   "name": "python3"
  },
  "language_info": {
   "codemirror_mode": {
    "name": "ipython",
    "version": 3
   },
   "file_extension": ".py",
   "mimetype": "text/x-python",
   "name": "python",
   "nbconvert_exporter": "python",
   "pygments_lexer": "ipython3",
   "version": "3.11.4"
  }
 },
 "nbformat": 4,
 "nbformat_minor": 5
}
